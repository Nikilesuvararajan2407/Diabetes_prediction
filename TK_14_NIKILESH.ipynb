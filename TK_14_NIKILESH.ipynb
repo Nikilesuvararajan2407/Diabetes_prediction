{
 "cells": [
  {
   "cell_type": "markdown",
   "id": "ae3614fd-2f25-4287-918f-8b741629b2b1",
   "metadata": {},
   "source": [
    "<p  style=\"font-size:50px;color:Darkred;\"> diabetes prediction</p>"
   ]
  },
  {
   "cell_type": "markdown",
   "id": "565b0fa1-caca-431d-9ef3-ab7ae16df11a",
   "metadata": {},
   "source": [
    "<h1  style=\"color:red;\">Data preprocessing</h1>"
   ]
  },
  {
   "cell_type": "markdown",
   "id": "1302c5b9-8cbc-46a2-87e6-b89d94162c32",
   "metadata": {},
   "source": [
    "<h3>importing libararies</h3>"
   ]
  },
  {
   "cell_type": "code",
   "execution_count": 1,
   "id": "e1376627-8cc8-422b-bc8c-7722cf6751ae",
   "metadata": {},
   "outputs": [],
   "source": [
    "import numpy as np\n",
    "import pandas as pd\n",
    "import matplotlib.pyplot as plt\n",
    "import sklearn\n",
    "from sklearn.linear_model import LinearRegression\n",
    "from sklearn.metrics import mean_squared_error,r2_score\n",
    "from sklearn.model_selection import train_test_split"
   ]
  },
  {
   "cell_type": "markdown",
   "id": "c85bbb5f-a373-4b62-87d2-f6eb93b3bc94",
   "metadata": {},
   "source": [
    "<h3>data loading</h3>"
   ]
  },
  {
   "cell_type": "code",
   "execution_count": 3,
   "id": "9986965f-3654-4600-9536-80302918d435",
   "metadata": {},
   "outputs": [
    {
     "data": {
      "text/html": [
       "<div>\n",
       "<style scoped>\n",
       "    .dataframe tbody tr th:only-of-type {\n",
       "        vertical-align: middle;\n",
       "    }\n",
       "\n",
       "    .dataframe tbody tr th {\n",
       "        vertical-align: top;\n",
       "    }\n",
       "\n",
       "    .dataframe thead th {\n",
       "        text-align: right;\n",
       "    }\n",
       "</style>\n",
       "<table border=\"1\" class=\"dataframe\">\n",
       "  <thead>\n",
       "    <tr style=\"text-align: right;\">\n",
       "      <th></th>\n",
       "      <th>Pregnancies</th>\n",
       "      <th>Glucose</th>\n",
       "      <th>BloodPressure</th>\n",
       "      <th>SkinThickness</th>\n",
       "      <th>Insulin</th>\n",
       "      <th>BMI</th>\n",
       "      <th>DiabetesPedigreeFunction</th>\n",
       "      <th>Age</th>\n",
       "      <th>Outcome</th>\n",
       "    </tr>\n",
       "  </thead>\n",
       "  <tbody>\n",
       "    <tr>\n",
       "      <th>0</th>\n",
       "      <td>6</td>\n",
       "      <td>148</td>\n",
       "      <td>72</td>\n",
       "      <td>35</td>\n",
       "      <td>0</td>\n",
       "      <td>33.6</td>\n",
       "      <td>0.627</td>\n",
       "      <td>50</td>\n",
       "      <td>1</td>\n",
       "    </tr>\n",
       "    <tr>\n",
       "      <th>1</th>\n",
       "      <td>1</td>\n",
       "      <td>85</td>\n",
       "      <td>66</td>\n",
       "      <td>29</td>\n",
       "      <td>0</td>\n",
       "      <td>26.6</td>\n",
       "      <td>0.351</td>\n",
       "      <td>31</td>\n",
       "      <td>0</td>\n",
       "    </tr>\n",
       "    <tr>\n",
       "      <th>2</th>\n",
       "      <td>8</td>\n",
       "      <td>183</td>\n",
       "      <td>64</td>\n",
       "      <td>0</td>\n",
       "      <td>0</td>\n",
       "      <td>23.3</td>\n",
       "      <td>0.672</td>\n",
       "      <td>32</td>\n",
       "      <td>1</td>\n",
       "    </tr>\n",
       "    <tr>\n",
       "      <th>3</th>\n",
       "      <td>1</td>\n",
       "      <td>89</td>\n",
       "      <td>66</td>\n",
       "      <td>23</td>\n",
       "      <td>94</td>\n",
       "      <td>28.1</td>\n",
       "      <td>0.167</td>\n",
       "      <td>21</td>\n",
       "      <td>0</td>\n",
       "    </tr>\n",
       "  </tbody>\n",
       "</table>\n",
       "</div>"
      ],
      "text/plain": [
       "   Pregnancies  Glucose  BloodPressure  SkinThickness  Insulin   BMI  \\\n",
       "0            6      148             72             35        0  33.6   \n",
       "1            1       85             66             29        0  26.6   \n",
       "2            8      183             64              0        0  23.3   \n",
       "3            1       89             66             23       94  28.1   \n",
       "\n",
       "   DiabetesPedigreeFunction  Age  Outcome  \n",
       "0                     0.627   50        1  \n",
       "1                     0.351   31        0  \n",
       "2                     0.672   32        1  \n",
       "3                     0.167   21        0  "
      ]
     },
     "execution_count": 3,
     "metadata": {},
     "output_type": "execute_result"
    }
   ],
   "source": [
    "data=pd.read_csv(\"health care diabetes.csv\")\n",
    "data.head(4)"
   ]
  },
  {
   "cell_type": "markdown",
   "id": "62d81726-fc47-44d6-9421-439e94c12a04",
   "metadata": {},
   "source": [
    "<h3>exploratory data analysis(EDA)</h3><br>"
   ]
  },
  {
   "cell_type": "markdown",
   "id": "3d9e0aaa-907b-4e03-abe9-eebd9242f4b5",
   "metadata": {},
   "source": [
    "\n",
    "\n",
    "<h3>feature engineering</h3><br>"
   ]
  },
  {
   "cell_type": "code",
   "execution_count": 7,
   "id": "acbde3c2-de2a-4460-a05f-66cd88a32ace",
   "metadata": {},
   "outputs": [
    {
     "data": {
      "text/html": [
       "<div>\n",
       "<style scoped>\n",
       "    .dataframe tbody tr th:only-of-type {\n",
       "        vertical-align: middle;\n",
       "    }\n",
       "\n",
       "    .dataframe tbody tr th {\n",
       "        vertical-align: top;\n",
       "    }\n",
       "\n",
       "    .dataframe thead th {\n",
       "        text-align: right;\n",
       "    }\n",
       "</style>\n",
       "<table border=\"1\" class=\"dataframe\">\n",
       "  <thead>\n",
       "    <tr style=\"text-align: right;\">\n",
       "      <th></th>\n",
       "      <th>Pregnancies</th>\n",
       "      <th>BloodPressure</th>\n",
       "      <th>SkinThickness</th>\n",
       "      <th>Insulin</th>\n",
       "      <th>BMI</th>\n",
       "      <th>DiabetesPedigreeFunction</th>\n",
       "      <th>Age</th>\n",
       "      <th>Outcome</th>\n",
       "    </tr>\n",
       "  </thead>\n",
       "  <tbody>\n",
       "    <tr>\n",
       "      <th>0</th>\n",
       "      <td>6</td>\n",
       "      <td>72</td>\n",
       "      <td>35</td>\n",
       "      <td>0</td>\n",
       "      <td>33.6</td>\n",
       "      <td>0.627</td>\n",
       "      <td>50</td>\n",
       "      <td>1</td>\n",
       "    </tr>\n",
       "    <tr>\n",
       "      <th>1</th>\n",
       "      <td>1</td>\n",
       "      <td>66</td>\n",
       "      <td>29</td>\n",
       "      <td>0</td>\n",
       "      <td>26.6</td>\n",
       "      <td>0.351</td>\n",
       "      <td>31</td>\n",
       "      <td>0</td>\n",
       "    </tr>\n",
       "    <tr>\n",
       "      <th>2</th>\n",
       "      <td>8</td>\n",
       "      <td>64</td>\n",
       "      <td>0</td>\n",
       "      <td>0</td>\n",
       "      <td>23.3</td>\n",
       "      <td>0.672</td>\n",
       "      <td>32</td>\n",
       "      <td>1</td>\n",
       "    </tr>\n",
       "    <tr>\n",
       "      <th>3</th>\n",
       "      <td>1</td>\n",
       "      <td>66</td>\n",
       "      <td>23</td>\n",
       "      <td>94</td>\n",
       "      <td>28.1</td>\n",
       "      <td>0.167</td>\n",
       "      <td>21</td>\n",
       "      <td>0</td>\n",
       "    </tr>\n",
       "  </tbody>\n",
       "</table>\n",
       "</div>"
      ],
      "text/plain": [
       "   Pregnancies  BloodPressure  SkinThickness  Insulin   BMI  \\\n",
       "0            6             72             35        0  33.6   \n",
       "1            1             66             29        0  26.6   \n",
       "2            8             64              0        0  23.3   \n",
       "3            1             66             23       94  28.1   \n",
       "\n",
       "   DiabetesPedigreeFunction  Age  Outcome  \n",
       "0                     0.627   50        1  \n",
       "1                     0.351   31        0  \n",
       "2                     0.672   32        1  \n",
       "3                     0.167   21        0  "
      ]
     },
     "execution_count": 7,
     "metadata": {},
     "output_type": "execute_result"
    }
   ],
   "source": [
    "\n",
    "x = data.iloc[:, [0, 2, 3, 4, 5, 6, 7, 8]]\n",
    "y = data.iloc[:, 1]\n",
    "x.head(4)\n"
   ]
  },
  {
   "cell_type": "code",
   "execution_count": 10,
   "id": "20fe211d-6a77-42ce-a499-a08702c2b666",
   "metadata": {},
   "outputs": [
    {
     "data": {
      "text/plain": [
       "0    148\n",
       "1     85\n",
       "2    183\n",
       "3     89\n",
       "Name: Glucose, dtype: int64"
      ]
     },
     "execution_count": 10,
     "metadata": {},
     "output_type": "execute_result"
    }
   ],
   "source": [
    "y.head(4)"
   ]
  },
  {
   "cell_type": "markdown",
   "id": "70e84135-ef98-4828-94b0-3c8d75420a8f",
   "metadata": {},
   "source": [
    "<h3>handling outliers (op)</h3><br> "
   ]
  },
  {
   "cell_type": "markdown",
   "id": "18019e1b-8b6b-4216-8c75-a71491b56f5e",
   "metadata": {},
   "source": [
    "<h3>data visulazation</h3>"
   ]
  },
  {
   "cell_type": "markdown",
   "id": "f430c830-a2ee-46e7-8c16-af62d4e1437c",
   "metadata": {},
   "source": [
    "<h1  style=\"color:red;\">model building</h1>"
   ]
  },
  {
   "cell_type": "markdown",
   "id": "5093c4f5-2457-4a67-b735-d543d82e1f99",
   "metadata": {},
   "source": [
    "\n",
    "\n",
    "\n",
    "<h3>train test split</h3><br>"
   ]
  },
  {
   "cell_type": "code",
   "execution_count": 18,
   "id": "875078b4-02f1-450f-8ef0-90d1f3caddca",
   "metadata": {},
   "outputs": [],
   "source": [
    "x_train, x_test, y_train, y_test = train_test_split(x, y, test_size=0.25, random_state=0) "
   ]
  },
  {
   "cell_type": "markdown",
   "id": "684a9b15-abe8-4d70-abd5-82630c343015",
   "metadata": {},
   "source": [
    "<h3>model intialization</h3><br>"
   ]
  },
  {
   "cell_type": "code",
   "execution_count": 21,
   "id": "bf55f148-2bd8-45d8-b0b1-f972094feeb2",
   "metadata": {},
   "outputs": [],
   "source": [
    "model=LinearRegression()"
   ]
  },
  {
   "cell_type": "markdown",
   "id": "a853be5d-d8f0-4a2e-8504-4a3e1d18331e",
   "metadata": {},
   "source": [
    "<h3>model training</h3><br>"
   ]
  },
  {
   "cell_type": "code",
   "execution_count": 24,
   "id": "1d6fff75-1a79-41d3-bdbb-7bededf97732",
   "metadata": {},
   "outputs": [],
   "source": [
    "model= model.fit(x_train,y_train) "
   ]
  },
  {
   "cell_type": "code",
   "execution_count": 26,
   "id": "5cc00c0e-3873-4210-a9fc-986f399a4254",
   "metadata": {},
   "outputs": [
    {
     "name": "stdout",
     "output_type": "stream",
     "text": [
      "[121.43113111 107.96313253 106.9464099  150.85997709 107.63955091\n",
      " 103.90309031 139.11522665 152.11584624 121.193908   132.30396286\n",
      " 143.54319374 159.9490282  120.29524275 107.08624013 107.6495333\n",
      " 103.71366034 134.02577875  97.40845592 117.68008797 107.66961712\n",
      " 130.86723895 133.99337016  92.45910379 112.5112164  110.45845007\n",
      "  97.20340244 104.08311993 117.37159297  97.50489586 106.49164705\n",
      " 121.57724938 102.97203511 114.07254969 110.57021383 102.73180277\n",
      " 138.07668426 137.82240202 105.59598779  99.15002486 107.22713582\n",
      " 110.70649533 110.31162906 105.92605293 122.85919175 180.71896474\n",
      "  86.45715315  97.93950356 131.14947632 126.85924214 132.05676043\n",
      " 108.22904415 102.73689845 150.41425959 103.23890257 121.13254749\n",
      "  95.67793142 100.15600468 142.99457468 128.28863523 110.1517634\n",
      " 151.52883778 130.17809397 103.18788464 125.96038195 132.31229784\n",
      " 132.90796755 141.90179443 112.21846795 111.81384616 105.33857831\n",
      " 104.67233469 102.47475212 100.72164259 121.63185467 135.57917614\n",
      " 110.67146331 119.02850394 120.35296115 106.62060762 101.84577953\n",
      " 117.89619103 114.02850089 111.79043243 101.45969736  99.7970855\n",
      " 114.41883159 124.56354262 109.73419427 156.50626994 113.71905369\n",
      "  99.15258498 108.46676313 108.74896255 106.17758756 116.26188958\n",
      "  98.43285556 135.40352296 127.87526359 152.64580207 139.92562843\n",
      " 131.52501412 104.51223742 114.22009887 102.09076899  97.11544294\n",
      " 131.55094805 108.77067918  96.58828217 108.15936134 127.67158519\n",
      "  96.94670319 142.62551825 138.00294154 130.57999622 164.88284837\n",
      " 141.54003813 124.00296556 131.68141808 102.49655533 147.18957992\n",
      " 106.22494988 123.62616466 112.559044   116.93704136 103.11736822\n",
      " 103.25470499 121.79715312 126.80408182 123.25783868 104.04886698\n",
      " 107.45407622  84.9351181   98.59648474 174.39768566 113.63341092\n",
      " 129.20208574 101.30400092 125.49627417 123.39008411 104.84992311\n",
      " 107.02118989 116.0502628  101.68240922 115.17039033 137.88686878\n",
      "  98.91343247 101.58284919 103.09666406  97.48160784 138.42448526\n",
      " 103.63906861 134.86915168 110.08464591 105.4624966  148.86923263\n",
      "  96.05516191 169.26732097 108.3330476  127.83499185 136.79955547\n",
      " 141.6290231  144.52283611 101.06935526 108.15095966 112.41466487\n",
      " 124.55840878 111.45162004 103.20224068 105.62350817 120.49862452\n",
      "  96.23136782 106.67109194 131.57155914 143.71096299 124.14553214\n",
      " 104.39701921 124.25802417 106.70691976 110.4644475   97.4239158\n",
      " 135.92366685 145.41611294 106.26615778 122.67963749 127.36896544\n",
      " 108.33137024 130.04267927 129.74733368 132.00585944 115.60955514\n",
      " 119.24561723 103.20116821]\n"
     ]
    }
   ],
   "source": [
    "y_predict = model.predict(x_test)\n",
    "print(y_predict)"
   ]
  },
  {
   "cell_type": "markdown",
   "id": "30dd583d-8a88-469b-8765-7300b4e566d7",
   "metadata": {},
   "source": [
    "<h3>hyperparameter tunning</h3><br>"
   ]
  },
  {
   "cell_type": "markdown",
   "id": "e5713934-fdff-42c7-b49e-3379618eb44d",
   "metadata": {},
   "source": [
    "<h1   style=\"color:red;\"> evaluvation and result</h1>"
   ]
  },
  {
   "cell_type": "code",
   "execution_count": 30,
   "id": "1fbb7930-9aff-4670-a49a-4e9e050ed7f0",
   "metadata": {},
   "outputs": [
    {
     "name": "stdout",
     "output_type": "stream",
     "text": [
      "rmse: 26.70255819018897\n",
      "R2 Err: 0.33551764022636477\n"
     ]
    }
   ],
   "source": [
    "rmse=np.sqrt(mean_squared_error(y_test,y_predict))#iroot mean squared err claculated ,\n",
    "r2=r2_score(y_test,y_predict)# finding r2 err\n",
    "print(\"rmse:\",rmse) \n",
    "print(\"R2 Err:\",r2)"
   ]
  },
  {
   "cell_type": "code",
   "execution_count": 32,
   "id": "aad0d618-8b75-4f4d-b4b2-c58a0651e8fd",
   "metadata": {},
   "outputs": [],
   "source": [
    "#is result good r bad\n",
    "#what are the next things i wana  to do \n",
    "#can i use output output  regressor(0,1) but it gives some prediction\n",
    "#IS RMSE IS 25,is  this good or  bad?"
   ]
  },
  {
   "cell_type": "code",
   "execution_count": null,
   "id": "fc9ae017-7831-4669-a55a-d590c4442dc7",
   "metadata": {},
   "outputs": [],
   "source": []
  }
 ],
 "metadata": {
  "kernelspec": {
   "display_name": "Python 3 (ipykernel)",
   "language": "python",
   "name": "python3"
  },
  "language_info": {
   "codemirror_mode": {
    "name": "ipython",
    "version": 3
   },
   "file_extension": ".py",
   "mimetype": "text/x-python",
   "name": "python",
   "nbconvert_exporter": "python",
   "pygments_lexer": "ipython3",
   "version": "3.12.4"
  }
 },
 "nbformat": 4,
 "nbformat_minor": 5
}
